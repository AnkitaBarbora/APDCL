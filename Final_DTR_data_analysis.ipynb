{
 "cells": [
  {
   "cell_type": "code",
   "execution_count": 1,
   "id": "65d0f7ee",
   "metadata": {},
   "outputs": [],
   "source": [
    "import pandas as pd\n",
    "import matplotlib.pyplot as plt"
   ]
  },
  {
   "cell_type": "code",
   "execution_count": 2,
   "id": "caf2e9e9",
   "metadata": {},
   "outputs": [],
   "source": [
    "dtr_data = pd.read_csv(\"final Data.csv\")"
   ]
  },
  {
   "cell_type": "code",
   "execution_count": 3,
   "id": "8aaea798",
   "metadata": {},
   "outputs": [
    {
     "data": {
      "text/html": [
       "<div>\n",
       "<style scoped>\n",
       "    .dataframe tbody tr th:only-of-type {\n",
       "        vertical-align: middle;\n",
       "    }\n",
       "\n",
       "    .dataframe tbody tr th {\n",
       "        vertical-align: top;\n",
       "    }\n",
       "\n",
       "    .dataframe thead th {\n",
       "        text-align: right;\n",
       "    }\n",
       "</style>\n",
       "<table border=\"1\" class=\"dataframe\">\n",
       "  <thead>\n",
       "    <tr style=\"text-align: right;\">\n",
       "      <th></th>\n",
       "      <th>Sub Div Code</th>\n",
       "      <th>Dtr No</th>\n",
       "      <th>DTR Name</th>\n",
       "      <th>Feeder No</th>\n",
       "      <th>Capacity</th>\n",
       "      <th>Latitude</th>\n",
       "      <th>Longitude</th>\n",
       "    </tr>\n",
       "  </thead>\n",
       "  <tbody>\n",
       "    <tr>\n",
       "      <th>0</th>\n",
       "      <td>133</td>\n",
       "      <td>18</td>\n",
       "      <td>018-paikan</td>\n",
       "      <td>5</td>\n",
       "      <td>100 kVA</td>\n",
       "      <td>24.982307</td>\n",
       "      <td>92.521000</td>\n",
       "    </tr>\n",
       "    <tr>\n",
       "      <th>1</th>\n",
       "      <td>133</td>\n",
       "      <td>44</td>\n",
       "      <td>044-KHELMA</td>\n",
       "      <td>2</td>\n",
       "      <td>63  kVA</td>\n",
       "      <td>24.953685</td>\n",
       "      <td>92.499068</td>\n",
       "    </tr>\n",
       "    <tr>\n",
       "      <th>2</th>\n",
       "      <td>133</td>\n",
       "      <td>46</td>\n",
       "      <td>046-CRAIGPARK</td>\n",
       "      <td>5</td>\n",
       "      <td>63  kVA</td>\n",
       "      <td>25.008613</td>\n",
       "      <td>92.525782</td>\n",
       "    </tr>\n",
       "    <tr>\n",
       "      <th>3</th>\n",
       "      <td>133</td>\n",
       "      <td>50</td>\n",
       "      <td>050-9BPL II</td>\n",
       "      <td>2</td>\n",
       "      <td>25  kVA</td>\n",
       "      <td>24.999775</td>\n",
       "      <td>92.443352</td>\n",
       "    </tr>\n",
       "    <tr>\n",
       "      <th>4</th>\n",
       "      <td>133</td>\n",
       "      <td>54</td>\n",
       "      <td>054-BPR 1</td>\n",
       "      <td>9</td>\n",
       "      <td>63  kVA</td>\n",
       "      <td>24.907980</td>\n",
       "      <td>92.673555</td>\n",
       "    </tr>\n",
       "    <tr>\n",
       "      <th>...</th>\n",
       "      <td>...</td>\n",
       "      <td>...</td>\n",
       "      <td>...</td>\n",
       "      <td>...</td>\n",
       "      <td>...</td>\n",
       "      <td>...</td>\n",
       "      <td>...</td>\n",
       "    </tr>\n",
       "    <tr>\n",
       "      <th>316</th>\n",
       "      <td>133</td>\n",
       "      <td>635</td>\n",
       "      <td>635-JOGODISHPUR-16-KVA</td>\n",
       "      <td>8</td>\n",
       "      <td>16  kVA</td>\n",
       "      <td>24.909972</td>\n",
       "      <td>92.559966</td>\n",
       "    </tr>\n",
       "    <tr>\n",
       "      <th>317</th>\n",
       "      <td>133</td>\n",
       "      <td>637</td>\n",
       "      <td>637-CHANDINAGAR-1-16-KVA</td>\n",
       "      <td>8</td>\n",
       "      <td>16  kVA</td>\n",
       "      <td>24.928473</td>\n",
       "      <td>92.500204</td>\n",
       "    </tr>\n",
       "    <tr>\n",
       "      <th>318</th>\n",
       "      <td>133</td>\n",
       "      <td>640</td>\n",
       "      <td>640-HARINAGAR-63-KVA</td>\n",
       "      <td>8</td>\n",
       "      <td>63  kVA</td>\n",
       "      <td>24.892913</td>\n",
       "      <td>92.498765</td>\n",
       "    </tr>\n",
       "    <tr>\n",
       "      <th>319</th>\n",
       "      <td>133</td>\n",
       "      <td>642</td>\n",
       "      <td>642-HORINAGAR II</td>\n",
       "      <td>8</td>\n",
       "      <td>63  kVA</td>\n",
       "      <td>24.881627</td>\n",
       "      <td>92.502897</td>\n",
       "    </tr>\n",
       "    <tr>\n",
       "      <th>320</th>\n",
       "      <td>133</td>\n",
       "      <td>646</td>\n",
       "      <td>646-HARINAGAR II</td>\n",
       "      <td>8</td>\n",
       "      <td>100 kVA</td>\n",
       "      <td>24.883140</td>\n",
       "      <td>92.503385</td>\n",
       "    </tr>\n",
       "  </tbody>\n",
       "</table>\n",
       "<p>321 rows × 7 columns</p>\n",
       "</div>"
      ],
      "text/plain": [
       "     Sub Div Code  Dtr No                  DTR Name  Feeder No Capacity  \\\n",
       "0             133      18                018-paikan          5  100 kVA   \n",
       "1             133      44                044-KHELMA          2  63  kVA   \n",
       "2             133      46             046-CRAIGPARK          5  63  kVA   \n",
       "3             133      50               050-9BPL II          2  25  kVA   \n",
       "4             133      54                 054-BPR 1          9  63  kVA   \n",
       "..            ...     ...                       ...        ...      ...   \n",
       "316           133     635    635-JOGODISHPUR-16-KVA          8  16  kVA   \n",
       "317           133     637  637-CHANDINAGAR-1-16-KVA          8  16  kVA   \n",
       "318           133     640      640-HARINAGAR-63-KVA          8  63  kVA   \n",
       "319           133     642          642-HORINAGAR II          8  63  kVA   \n",
       "320           133     646          646-HARINAGAR II          8  100 kVA   \n",
       "\n",
       "      Latitude  Longitude  \n",
       "0    24.982307  92.521000  \n",
       "1    24.953685  92.499068  \n",
       "2    25.008613  92.525782  \n",
       "3    24.999775  92.443352  \n",
       "4    24.907980  92.673555  \n",
       "..         ...        ...  \n",
       "316  24.909972  92.559966  \n",
       "317  24.928473  92.500204  \n",
       "318  24.892913  92.498765  \n",
       "319  24.881627  92.502897  \n",
       "320  24.883140  92.503385  \n",
       "\n",
       "[321 rows x 7 columns]"
      ]
     },
     "execution_count": 3,
     "metadata": {},
     "output_type": "execute_result"
    }
   ],
   "source": [
    "dtr_data"
   ]
  },
  {
   "cell_type": "code",
   "execution_count": 4,
   "id": "17c9c504",
   "metadata": {},
   "outputs": [
    {
     "data": {
      "text/html": [
       "<div>\n",
       "<style scoped>\n",
       "    .dataframe tbody tr th:only-of-type {\n",
       "        vertical-align: middle;\n",
       "    }\n",
       "\n",
       "    .dataframe tbody tr th {\n",
       "        vertical-align: top;\n",
       "    }\n",
       "\n",
       "    .dataframe thead th {\n",
       "        text-align: right;\n",
       "    }\n",
       "</style>\n",
       "<table border=\"1\" class=\"dataframe\">\n",
       "  <thead>\n",
       "    <tr style=\"text-align: right;\">\n",
       "      <th></th>\n",
       "      <th>Sub Div Code</th>\n",
       "      <th>Dtr No</th>\n",
       "      <th>DTR Name</th>\n",
       "      <th>Feeder No</th>\n",
       "      <th>Capacity</th>\n",
       "      <th>Latitude</th>\n",
       "      <th>Longitude</th>\n",
       "    </tr>\n",
       "  </thead>\n",
       "  <tbody>\n",
       "    <tr>\n",
       "      <th>0</th>\n",
       "      <td>133</td>\n",
       "      <td>18</td>\n",
       "      <td>018-paikan</td>\n",
       "      <td>5</td>\n",
       "      <td>100 kVA</td>\n",
       "      <td>24.982307</td>\n",
       "      <td>92.521000</td>\n",
       "    </tr>\n",
       "    <tr>\n",
       "      <th>1</th>\n",
       "      <td>133</td>\n",
       "      <td>44</td>\n",
       "      <td>044-KHELMA</td>\n",
       "      <td>2</td>\n",
       "      <td>63  kVA</td>\n",
       "      <td>24.953685</td>\n",
       "      <td>92.499068</td>\n",
       "    </tr>\n",
       "    <tr>\n",
       "      <th>2</th>\n",
       "      <td>133</td>\n",
       "      <td>46</td>\n",
       "      <td>046-CRAIGPARK</td>\n",
       "      <td>5</td>\n",
       "      <td>63  kVA</td>\n",
       "      <td>25.008613</td>\n",
       "      <td>92.525782</td>\n",
       "    </tr>\n",
       "    <tr>\n",
       "      <th>3</th>\n",
       "      <td>133</td>\n",
       "      <td>50</td>\n",
       "      <td>050-9BPL II</td>\n",
       "      <td>2</td>\n",
       "      <td>25  kVA</td>\n",
       "      <td>24.999775</td>\n",
       "      <td>92.443352</td>\n",
       "    </tr>\n",
       "    <tr>\n",
       "      <th>4</th>\n",
       "      <td>133</td>\n",
       "      <td>54</td>\n",
       "      <td>054-BPR 1</td>\n",
       "      <td>9</td>\n",
       "      <td>63  kVA</td>\n",
       "      <td>24.907980</td>\n",
       "      <td>92.673555</td>\n",
       "    </tr>\n",
       "    <tr>\n",
       "      <th>5</th>\n",
       "      <td>133</td>\n",
       "      <td>55</td>\n",
       "      <td>055-BPR1</td>\n",
       "      <td>9</td>\n",
       "      <td>63  kVA</td>\n",
       "      <td>24.928374</td>\n",
       "      <td>92.652353</td>\n",
       "    </tr>\n",
       "    <tr>\n",
       "      <th>6</th>\n",
       "      <td>133</td>\n",
       "      <td>57</td>\n",
       "      <td>057-CHANDPUR III</td>\n",
       "      <td>9</td>\n",
       "      <td>100 kVA</td>\n",
       "      <td>24.905636</td>\n",
       "      <td>92.675128</td>\n",
       "    </tr>\n",
       "  </tbody>\n",
       "</table>\n",
       "</div>"
      ],
      "text/plain": [
       "   Sub Div Code  Dtr No          DTR Name  Feeder No Capacity   Latitude  \\\n",
       "0           133      18        018-paikan          5  100 kVA  24.982307   \n",
       "1           133      44        044-KHELMA          2  63  kVA  24.953685   \n",
       "2           133      46     046-CRAIGPARK          5  63  kVA  25.008613   \n",
       "3           133      50       050-9BPL II          2  25  kVA  24.999775   \n",
       "4           133      54         054-BPR 1          9  63  kVA  24.907980   \n",
       "5           133      55          055-BPR1          9  63  kVA  24.928374   \n",
       "6           133      57  057-CHANDPUR III          9  100 kVA  24.905636   \n",
       "\n",
       "   Longitude  \n",
       "0  92.521000  \n",
       "1  92.499068  \n",
       "2  92.525782  \n",
       "3  92.443352  \n",
       "4  92.673555  \n",
       "5  92.652353  \n",
       "6  92.675128  "
      ]
     },
     "execution_count": 4,
     "metadata": {},
     "output_type": "execute_result"
    }
   ],
   "source": [
    "dtr_data.head(7)"
   ]
  },
  {
   "cell_type": "code",
   "execution_count": 5,
   "id": "b91aa8dc",
   "metadata": {},
   "outputs": [
    {
     "data": {
      "text/html": [
       "<div>\n",
       "<style scoped>\n",
       "    .dataframe tbody tr th:only-of-type {\n",
       "        vertical-align: middle;\n",
       "    }\n",
       "\n",
       "    .dataframe tbody tr th {\n",
       "        vertical-align: top;\n",
       "    }\n",
       "\n",
       "    .dataframe thead th {\n",
       "        text-align: right;\n",
       "    }\n",
       "</style>\n",
       "<table border=\"1\" class=\"dataframe\">\n",
       "  <thead>\n",
       "    <tr style=\"text-align: right;\">\n",
       "      <th></th>\n",
       "      <th>Sub Div Code</th>\n",
       "      <th>Dtr No</th>\n",
       "      <th>DTR Name</th>\n",
       "      <th>Feeder No</th>\n",
       "      <th>Capacity</th>\n",
       "      <th>Latitude</th>\n",
       "      <th>Longitude</th>\n",
       "    </tr>\n",
       "  </thead>\n",
       "  <tbody>\n",
       "    <tr>\n",
       "      <th>0</th>\n",
       "      <td>133</td>\n",
       "      <td>18</td>\n",
       "      <td>018-paikan</td>\n",
       "      <td>5</td>\n",
       "      <td>100 kVA</td>\n",
       "      <td>24.982307</td>\n",
       "      <td>92.521000</td>\n",
       "    </tr>\n",
       "    <tr>\n",
       "      <th>1</th>\n",
       "      <td>133</td>\n",
       "      <td>44</td>\n",
       "      <td>044-KHELMA</td>\n",
       "      <td>2</td>\n",
       "      <td>63  kVA</td>\n",
       "      <td>24.953685</td>\n",
       "      <td>92.499068</td>\n",
       "    </tr>\n",
       "    <tr>\n",
       "      <th>2</th>\n",
       "      <td>133</td>\n",
       "      <td>46</td>\n",
       "      <td>046-CRAIGPARK</td>\n",
       "      <td>5</td>\n",
       "      <td>63  kVA</td>\n",
       "      <td>25.008613</td>\n",
       "      <td>92.525782</td>\n",
       "    </tr>\n",
       "    <tr>\n",
       "      <th>3</th>\n",
       "      <td>133</td>\n",
       "      <td>50</td>\n",
       "      <td>050-9BPL II</td>\n",
       "      <td>2</td>\n",
       "      <td>25  kVA</td>\n",
       "      <td>24.999775</td>\n",
       "      <td>92.443352</td>\n",
       "    </tr>\n",
       "    <tr>\n",
       "      <th>4</th>\n",
       "      <td>133</td>\n",
       "      <td>54</td>\n",
       "      <td>054-BPR 1</td>\n",
       "      <td>9</td>\n",
       "      <td>63  kVA</td>\n",
       "      <td>24.907980</td>\n",
       "      <td>92.673555</td>\n",
       "    </tr>\n",
       "    <tr>\n",
       "      <th>5</th>\n",
       "      <td>133</td>\n",
       "      <td>55</td>\n",
       "      <td>055-BPR1</td>\n",
       "      <td>9</td>\n",
       "      <td>63  kVA</td>\n",
       "      <td>24.928374</td>\n",
       "      <td>92.652353</td>\n",
       "    </tr>\n",
       "    <tr>\n",
       "      <th>6</th>\n",
       "      <td>133</td>\n",
       "      <td>57</td>\n",
       "      <td>057-CHANDPUR III</td>\n",
       "      <td>9</td>\n",
       "      <td>100 kVA</td>\n",
       "      <td>24.905636</td>\n",
       "      <td>92.675128</td>\n",
       "    </tr>\n",
       "    <tr>\n",
       "      <th>7</th>\n",
       "      <td>133</td>\n",
       "      <td>1003</td>\n",
       "      <td>Chandpur-I (Nokyary) (Near PHE)</td>\n",
       "      <td>7</td>\n",
       "      <td>25  kVA</td>\n",
       "      <td>24.888106</td>\n",
       "      <td>92.651736</td>\n",
       "    </tr>\n",
       "    <tr>\n",
       "      <th>8</th>\n",
       "      <td>133</td>\n",
       "      <td>1005</td>\n",
       "      <td>Chandpur-I ( Near Masjid)</td>\n",
       "      <td>7</td>\n",
       "      <td>25  kVA</td>\n",
       "      <td>24.886636</td>\n",
       "      <td>92.656414</td>\n",
       "    </tr>\n",
       "    <tr>\n",
       "      <th>9</th>\n",
       "      <td>133</td>\n",
       "      <td>1009</td>\n",
       "      <td>1009- Dudhpur Lamargram (Dindayal)</td>\n",
       "      <td>7</td>\n",
       "      <td>25  kVA</td>\n",
       "      <td>24.880567</td>\n",
       "      <td>92.656160</td>\n",
       "    </tr>\n",
       "  </tbody>\n",
       "</table>\n",
       "</div>"
      ],
      "text/plain": [
       "   Sub Div Code  Dtr No                            DTR Name  Feeder No  \\\n",
       "0           133      18                          018-paikan          5   \n",
       "1           133      44                          044-KHELMA          2   \n",
       "2           133      46                       046-CRAIGPARK          5   \n",
       "3           133      50                         050-9BPL II          2   \n",
       "4           133      54                           054-BPR 1          9   \n",
       "5           133      55                            055-BPR1          9   \n",
       "6           133      57                    057-CHANDPUR III          9   \n",
       "7           133    1003     Chandpur-I (Nokyary) (Near PHE)          7   \n",
       "8           133    1005           Chandpur-I ( Near Masjid)          7   \n",
       "9           133    1009  1009- Dudhpur Lamargram (Dindayal)          7   \n",
       "\n",
       "  Capacity   Latitude  Longitude  \n",
       "0  100 kVA  24.982307  92.521000  \n",
       "1  63  kVA  24.953685  92.499068  \n",
       "2  63  kVA  25.008613  92.525782  \n",
       "3  25  kVA  24.999775  92.443352  \n",
       "4  63  kVA  24.907980  92.673555  \n",
       "5  63  kVA  24.928374  92.652353  \n",
       "6  100 kVA  24.905636  92.675128  \n",
       "7  25  kVA  24.888106  92.651736  \n",
       "8  25  kVA  24.886636  92.656414  \n",
       "9  25  kVA  24.880567  92.656160  "
      ]
     },
     "execution_count": 5,
     "metadata": {},
     "output_type": "execute_result"
    }
   ],
   "source": [
    "dtr_data.head(10)\n",
    "#to check if the DTR no.s are same"
   ]
  },
  {
   "cell_type": "code",
   "execution_count": 6,
   "id": "7cd6a854",
   "metadata": {},
   "outputs": [
    {
     "data": {
      "text/plain": [
       "321"
      ]
     },
     "execution_count": 6,
     "metadata": {},
     "output_type": "execute_result"
    }
   ],
   "source": [
    "dtr_data[\"Dtr No\"].nunique()"
   ]
  },
  {
   "cell_type": "code",
   "execution_count": 8,
   "id": "071b1523",
   "metadata": {},
   "outputs": [
    {
     "data": {
      "text/plain": [
       "317"
      ]
     },
     "execution_count": 8,
     "metadata": {},
     "output_type": "execute_result"
    }
   ],
   "source": [
    "dtr_data[\"DTR Name\"].nunique()"
   ]
  },
  {
   "cell_type": "code",
   "execution_count": 9,
   "id": "f28932cb",
   "metadata": {},
   "outputs": [
    {
     "data": {
      "text/plain": [
       "array(['018-paikan', '044-KHELMA', '046-CRAIGPARK', '050-9BPL II',\n",
       "       '054-BPR 1', '055-BPR1', '057-CHANDPUR III',\n",
       "       'Chandpur-I (Nokyary) (Near PHE)', 'Chandpur-I ( Near Masjid)',\n",
       "       '1009- Dudhpur Lamargram (Dindayal)',\n",
       "       '1010-Lakhipur-III (Dindayal) DT-1', '1014-Khelma III (Dindayal)',\n",
       "       '1015-Sarajpur (Daspara) (Dindayal)',\n",
       "       '1016-Paikan (Ujangram) (Dindayal)',\n",
       "       '1017- Craigpark Mikir Punjee (Shivtilla) (Dindayal)',\n",
       "       'Kalain Bazar (Near FRU)', '1025-Saidpur II (Kalibari) (Dindayal)',\n",
       "       '1028- Baraitoli Pt IV (Dindayal) DT-1',\n",
       "       '1029- Baraitoli Pt IV (Dindayal) DT-2',\n",
       "       'Kalain Bazar (Near Gas Agency)',\n",
       "       '1032- Mahadevpur (Talkargrant) (Dindayal)',\n",
       "       '1033- Mahanpur (Near Samsul House) DT- 2',\n",
       "       '1034-Bhairabpur II (16 kva)', '1037- Sewti Pt IV (Dindayal)',\n",
       "       '1038- Bhairabpr I (Near M E School) (SOUBHAGYA)',\n",
       "       '1042- Dudpur II (SANJOG)', '1045- Sraspur (SANJOG)',\n",
       "       '1047- Lahamali (SANJOG) 25', '1048- Mahadevpur III',\n",
       "       '1049- Bhangarpar III & IV', 'Kalain (Near KESD, APDCL)',\n",
       "       '1057- Buribail III', '1059- Khelma II (SANJOG)',\n",
       "       'Kalain (Near PHE)', 'Kalain Brahmangram (Near Jio)',\n",
       "       '109- Kalain (Tarapur- College Road)', '110-KAKRAKHAL',\n",
       "       '111-BHAIRABPUR-V', '112-BHAIRABPUR MASJID', '114-NATANPUR',\n",
       "       'Boroitoli (Near Masjid)', '117-NATANPUR', '118-DIGABUR BASTI',\n",
       "       '120-BHAIRABPUR-V (NEAR KAKRAKHAL)',\n",
       "       '121-BHAIRABPUR-III HILUATILLA', '125-SALIMABAD', '126-KAKRAKHAL',\n",
       "       '128-KHELMA-VI', '130-KHELMA VIII', '132-BHUBANESWARNAGAR',\n",
       "       '133-PAIKAN 25 kVA', '134-TARAPUR ULLAKHAL',\n",
       "       'Paikan (Near Masjid)', '139-KOROCHURA 63KVA', '140-KHELMA 16KV',\n",
       "       '141-KHELMA-III VII', '142-KHLMA', '144-KHELMA II',\n",
       "       '145-SADIRKHAL BAZAR', '146-JALALPUR KUSIERKUL', '147-TARAPUR',\n",
       "       '148-LEVERPUTA', '150-dudpur-63-kva', '151-SARASPUR', '153-KHELMA',\n",
       "       '155-RAJPUR 63 KVA', '156-TALKARGRANT', '157-MAHADEVPUR RGGVY',\n",
       "       'Paikan', '160-PEERNAGAR', '162-Mahadevpur', 'Bhairabpur Part-I',\n",
       "       '165-Bhairabpur-i(25kva RGGVY)', '168-TARAPUR',\n",
       "       '169-SOUTH TARAPUR', '170-BISWAMBARPUR', '171-16-Digabar TE',\n",
       "       '176-NIJ JALALPUR II', '177-NIJ JALALPUR I', '178-KHELMA JALALPUR',\n",
       "       '180-KARABALAGRANT 16KVA', '181-GUMRAHGRANT 16KVA',\n",
       "       '187-BHAIRABPUR-V', '190-BHAIRABPUR-I',\n",
       "       'Lakhipur III (Near Manipuri Mandir)',\n",
       "       'Lakhipur II (Near Gas Agency)',\n",
       "       'Barailtoli (Hilarkandi) (Near Itt Bhatta)',\n",
       "       'Mohanpur II (Near ONGC)', 'Mohanpur II (Khanjalla)',\n",
       "       'Khelma-IV(DDUGJY)', 'Chandpur II (Near Natun LP School)',\n",
       "       '202-CHALIGRAM', '203-DHUMKAR CHALIRGRAM',\n",
       "       'Tikarbosti(NearIOC)25KVA', 'SONAPUR III(MOROITOL)63KVA',\n",
       "       '204-CHOLIGRAM 63KV', 'SonapurPTI(Kunagram)25KVA',\n",
       "       'SunapurPT-i(NearSchool)25KVA', 'Sonapur PT I(Dispur) 100 kva',\n",
       "       '205-GOBINDOKUPA', '206-MEZENTA A', 'Bhangarpar IV',\n",
       "       'Khelma-III(Near Kali Mandir)', 'Rajpur Talkar grant 2',\n",
       "       'HARINAGAR PT II (NEW 25KVA)',\n",
       "       '25KVA KATIGORAH PT II NEAR SUKRITIPUR STATION',\n",
       "       'Bhairabpur Pt II New 16 kVA', '208-soligram 63-kva',\n",
       "       'BHAIRABPUR-II(SALIMABAD)', 'HARINAGAR PT II NEAR MASJID 25KVA',\n",
       "       'CHANDINAGAR PT II NEAR LP SCHOOL 25', 'NANDIRPAR NEAR BSF CAMP',\n",
       "       'KUNAPARAGRANT', 'Lakhipur PT I (Near Baliuna)',\n",
       "       'Lakhipur PT I (Near Forest Gate)', 'LEVERPUTA II', 'LEVERPUTA I',\n",
       "       '210-majanta-te-16-kva', 'JAGADISHPUR V', 'RONGHAR I',\n",
       "       'JALALPUR ( DONARPAR )', 'Natanpur ongc', 'DIGABOR GRANT',\n",
       "       'khelma part ii', '212-mougram 16-kva', 'khrelma part ii',\n",
       "       'GOALNAGAR', 'NIZ FULBARI PART I', '213-63-KVA', 'MAHADEVPUR III',\n",
       "       '214-buranga-2--100 kVA', 'barjatrapur(near public school)',\n",
       "       'barjatrapur bus stand', 'NATANPUR  CHOUMATHA', 'GOKULNAGAR',\n",
       "       '215-bELTILLA-16-kva', 'NIZFULBARI-III DDUGJY-21',\n",
       "       'CHANDPUR KANDIGRAM(NEAR JIO)', '63 kVA CHANDIPUR New DDUGJY 21',\n",
       "       'SIDDHESWAR PT II NEW DDUGJY21', 'NATANPUR NEW DDUGJY 21',\n",
       "       'SEWTI PT I NEW DDUGJY21', 'SEWTI PT IV NEW DDUGJY21',\n",
       "       'BOALCHERA NEW DDUGJY21', 'HARINAGAR-II DDUGJY21',\n",
       "       'HARINAGAR -III DDUGJY21', 'MOHONPUR-I DDUGJY21',\n",
       "       'MOHANPUR-I DDUGJY21', 'DUDHPUR DDUGJY21', 'RONGPUR NEW DDUGJY21',\n",
       "       'TINTIKRI DDUGJY21', 'GILATOLI 2NEW DDUGJY21', '220-GUMRAH BAZAR',\n",
       "       'SINGDUAR TE DDUGJY21', 'GUMRAH GRANT DDUGJY21',\n",
       "       'BIHARA PT V DDUGJY21', 'BIHARA PT IV DDUGJY21',\n",
       "       'RANGHAR PT III DDUGJY21', 'BURIBAIL PT III DDUGJY21',\n",
       "       'NIZ FULBARI PT I DDUGJY21', 'DIGHOR MOHADEVPUR DDUGJY21',\n",
       "       'GOBINDAPUR PT III (MODANGONJ)DDUGJY21',\n",
       "       'Barjatrapur(Raninagar) 25 kva DDUGJY2021',\n",
       "       'DHOLCHERA PT I NEAR SS DDUGJY21',\n",
       "       'Gumrah Kandigram (Near Sitaram Mandir)',\n",
       "       'kunapara grant near school', 'SARASAPUR 1 DDUGJY21',\n",
       "       'TALKARGRANT MVI GATE DDUGJY21', 'BELTILLA DDUGJY21',\n",
       "       'NIZ HARITIKAR-II DDUGJY21',\n",
       "       'SINGDUWAR 12 NO MIKIR PUNJEE DDUGJY21', 'NATANPUR DDUGJY21',\n",
       "       'GOBINDAKUPA PAIKAN DDUGJY21', 'DUDPUR LAMARGAM', '225-DIGORKHAL',\n",
       "       'GUMRA BAGAAN', 'BOROITOLI NEAR DIGABOR TE', '229-RAJESHWARPUR II',\n",
       "       '230-megenta te 16-kva', '231-kalainchora-100-kva',\n",
       "       '233-SPPS65 LAKHICHERA', '236-100 KVA KURKURI BHANGARPAR',\n",
       "       '241-BATULMARAGRANT J.T.E', '244-DUMKAR- SP-60 100 kVA',\n",
       "       '245-JALALPUR BAZAR', '246-63-KVA', 'Punaparagrant mikirpunji1',\n",
       "       'Gonirgram-iii', 'Kalinagar-1', 'Gonigram-iii', 'Gonigram-iv',\n",
       "       'Katirail T.E', 'Craigpark -4 NO Basti', 'Tarinipur-iii',\n",
       "       '303-Menum Mikirpunji 25 kVA', '306-KURKURI/BHANGARPAR',\n",
       "       'Monipur-1 16 kVA', 'Sundhura near Kalain Bagan down',\n",
       "       '311-Behara Pt V (Kalacheri) (Dindayal) DT- 1',\n",
       "       '324-Chandinagar 25 kva(Dindayal)', '327-Rongpur 25 kva(Dindayal)',\n",
       "       '328-Gobindapur-I 25 kva(Dindayal)',\n",
       "       '331- Madar Pur (Dindayal) DT-1', '333-Kalainchera-63- KVA',\n",
       "       '335-VITORKUL-16-KVA', '341-BANGARPAR BAZAR', '342-BHANGARPAR IV',\n",
       "       '347-Chandpur V 25 kva(Dindayal)', '350-Sonapur',\n",
       "       '352-BIAKIMPUNJI-25-KVA', '353-BOLASHARGRANT-16-.KVA',\n",
       "       '354-BISWAMBERPUR', '357-10 KVA', '358-BALESWARGRANT',\n",
       "       '359-BALESWARGRANT', '361-CHANDPUR II', '362- GOBINDAKUPA',\n",
       "       '364-CHANDPUR', '368-CHANDPUR III (BELAKONA)', '369-CHANDPUR III',\n",
       "       '370-BHANGARPAR II', '374-RANGHAR III', '375-BHANGARPAR IV',\n",
       "       '377-BHEWARPAR', 'Bhangarpar IV (Near Police Outpost)',\n",
       "       '379- Digorkhal Bazar', '384-CHANDPUR', '385-SONAPUR',\n",
       "       '386- KAYAJANI BASTI', '387-16-SEWTI', '388-CHANDPUR II',\n",
       "       '390-BHANGARPAR II', '391-tingourI', '392-SEWTI IV',\n",
       "       '394-16 KVA BARJATRAPUR', '396-HIYERBOND-II',\n",
       "       '397-CHANDPUR III ( NEAR PETROL PUMP',\n",
       "       '398-CHANDPUR IV- AKILTIKRI', '406-Kalain TE.',\n",
       "       '411- Tarinipur I(Dindayal) DT-2',\n",
       "       '412- Karai Kandi I (Pahar Tilla) (Dindayal) DT- 2',\n",
       "       '415- Behara Pt VI (Goralalpar) (Dindayal)',\n",
       "       '416 Mahadevpur II(Dindayal 234)', 'SALIGRAM( BOLoRAM)25KVA  ',\n",
       "       '418- Sewti Pt I (Santi Pt I) (Monkey Tillah) (Dindayal)',\n",
       "       '420-RAJPUR-I', '425-Mahadevpur', 'SALIGRAM (SORARPAR)BOLO-NANKI',\n",
       "       '437 Talkargrant (Dinndayal)',\n",
       "       '439 Talkargrant Mahadebpur (Dindayal)', 'CHANDPUR-III',\n",
       "       '445- Jagadishpur III (Bargoal) (Dindayal)',\n",
       "       '447 Niz- Jalalpur III', '448 Talkargrant (Dindayal)',\n",
       "       '450- Karai Kandi I (Pahar Tilla) (Dindayal) DT- 1',\n",
       "       'VitorgongapurPt-i 25KVA', 'KHELMA PT-II',\n",
       "       'Mahadevpur Pt-I (Sriguru Nagar)  25 KVA',\n",
       "       '457-Gobindapur-I (Purba Gobingapur) (Dindayal)',\n",
       "       '459-BORAITALI-IV (DINDAYAL)', '461-TALKARGRANT (DINDAYAL)',\n",
       "       '462- MANIPUR-I (DINDAYAL)',\n",
       "       '468- Gumra Grant (Gumrah Gaon) (Dindayal)',\n",
       "       'Saidpur Pt I(nadirpar)  25KVA', 'Biswambarpur(Kushiarkul) 25KVA',\n",
       "       '501-KATIRAIL TE', '503-SIDDIPUR', '504-KATIRAIL', '505-SIDDIPUR',\n",
       "       '506-KATIRAIL', '507-NOON NAGAR', '508-TIKARPARA', '509-SIDDESWAR',\n",
       "       '512-BEHARA VI (TINTIKRI)', '513-KATIRAIL TE', '514-NOONNAGAR',\n",
       "       '515-KATIRAIL', '516-MODUA', '517-NOONNAGAR', '519-HILARA-',\n",
       "       '520-CHOUDHURY PARA', '521-Hilara pamp',\n",
       "       '522-Bihara-V Kolachoripar', '523-CHELLAH', '524-LAKHIPUR III',\n",
       "       '525-CHABAGAN', '526-BOROITOLI-V SP-44', '527-MOHANPUR-I',\n",
       "       '529-HILARA TE', '530-LAKHIPUR-I', '531-HILARA PUMP',\n",
       "       '601-siddeshwar-63-kva', '602-kathigorha-63-kva',\n",
       "       '603-charagibazar-250-kva', '604-kathigorha-63-kva',\n",
       "       '605-KATIGORAH OLD 250', '607-JAGADISHPUR 100',\n",
       "       '609-haritakar-16-kva', '610-LATHIMARA-100-KVA', 'Haritakar',\n",
       "       '612-LATHIMARA-16-KVA', '614-KATIGORAH II 100',\n",
       "       '615-KATHIGORHA-25-KVA-', '616-KATHIGORHA-16-KVA',\n",
       "       '619-niz kathigorha-16-kva', '623-JAGADISHPUR V 100',\n",
       "       '624-JAGADISHPUR IV 63', '626-JAGADISHPUR IV 63',\n",
       "       '629-LATHIMARA-100-KVA', '631-KATHIGORHA-16-KVA',\n",
       "       '632-talitakar-63-kva', '634-CHANDINAGAR-16--KVA',\n",
       "       '635-JOGODISHPUR-16-KVA', '637-CHANDINAGAR-1-16-KVA',\n",
       "       '640-HARINAGAR-63-KVA', '642-HORINAGAR II', '646-HARINAGAR II'],\n",
       "      dtype=object)"
      ]
     },
     "execution_count": 9,
     "metadata": {},
     "output_type": "execute_result"
    }
   ],
   "source": [
    "dtr_data[\"DTR Name\"].unique()"
   ]
  },
  {
   "cell_type": "code",
   "execution_count": 10,
   "id": "79eadc56",
   "metadata": {},
   "outputs": [
    {
     "data": {
      "text/plain": [
       "(321, 7)"
      ]
     },
     "execution_count": 10,
     "metadata": {},
     "output_type": "execute_result"
    }
   ],
   "source": [
    "dtr_data.shape"
   ]
  },
  {
   "cell_type": "code",
   "execution_count": 11,
   "id": "25ba115b",
   "metadata": {},
   "outputs": [],
   "source": [
    "dtr_data.drop_duplicates(inplace=True)"
   ]
  },
  {
   "cell_type": "code",
   "execution_count": 12,
   "id": "54df7587",
   "metadata": {},
   "outputs": [
    {
     "data": {
      "text/plain": [
       "(321, 7)"
      ]
     },
     "execution_count": 12,
     "metadata": {},
     "output_type": "execute_result"
    }
   ],
   "source": [
    "dtr_data.shape"
   ]
  },
  {
   "cell_type": "code",
   "execution_count": 13,
   "id": "c66570dd",
   "metadata": {},
   "outputs": [
    {
     "data": {
      "text/plain": [
       "Sub Div Code    0\n",
       "Dtr No          0\n",
       "DTR Name        0\n",
       "Feeder No       0\n",
       "Capacity        0\n",
       "Latitude        0\n",
       "Longitude       0\n",
       "dtype: int64"
      ]
     },
     "execution_count": 13,
     "metadata": {},
     "output_type": "execute_result"
    }
   ],
   "source": [
    "#no. of missing data for each column\n",
    "dtr_data.isnull().sum()"
   ]
  },
  {
   "cell_type": "code",
   "execution_count": 14,
   "id": "2e0b933b",
   "metadata": {},
   "outputs": [
    {
     "data": {
      "text/plain": [
       "Sub Div Code      int64\n",
       "Dtr No            int64\n",
       "DTR Name         object\n",
       "Feeder No         int64\n",
       "Capacity         object\n",
       "Latitude        float64\n",
       "Longitude       float64\n",
       "dtype: object"
      ]
     },
     "execution_count": 14,
     "metadata": {},
     "output_type": "execute_result"
    }
   ],
   "source": [
    "dtr_data.dtypes"
   ]
  },
  {
   "cell_type": "code",
   "execution_count": 15,
   "id": "f51c555e",
   "metadata": {},
   "outputs": [
    {
     "name": "stdout",
     "output_type": "stream",
     "text": [
      "<class 'pandas.core.frame.DataFrame'>\n",
      "Int64Index: 321 entries, 0 to 320\n",
      "Data columns (total 7 columns):\n",
      " #   Column        Non-Null Count  Dtype  \n",
      "---  ------        --------------  -----  \n",
      " 0   Sub Div Code  321 non-null    int64  \n",
      " 1   Dtr No        321 non-null    int64  \n",
      " 2   DTR Name      321 non-null    object \n",
      " 3   Feeder No     321 non-null    int64  \n",
      " 4   Capacity      321 non-null    object \n",
      " 5   Latitude      321 non-null    float64\n",
      " 6   Longitude     321 non-null    float64\n",
      "dtypes: float64(2), int64(3), object(2)\n",
      "memory usage: 20.1+ KB\n"
     ]
    }
   ],
   "source": [
    "dtr_data.info()"
   ]
  },
  {
   "cell_type": "code",
   "execution_count": 16,
   "id": "55f8630f",
   "metadata": {},
   "outputs": [
    {
     "name": "stderr",
     "output_type": "stream",
     "text": [
      "C:\\Users\\KIIT\\AppData\\Local\\Temp\\ipykernel_15812\\1403906765.py:1: FutureWarning: Dropping of nuisance columns in DataFrame reductions (with 'numeric_only=None') is deprecated; in a future version this will raise TypeError.  Select only valid columns before calling the reduction.\n",
      "  dtr_data.mean()\n"
     ]
    },
    {
     "data": {
      "text/plain": [
       "Sub Div Code    133.000000\n",
       "Dtr No          852.246106\n",
       "Feeder No         8.831776\n",
       "Latitude         24.942419\n",
       "Longitude        92.560238\n",
       "dtype: float64"
      ]
     },
     "execution_count": 16,
     "metadata": {},
     "output_type": "execute_result"
    }
   ],
   "source": [
    "dtr_data.mean()"
   ]
  },
  {
   "cell_type": "code",
   "execution_count": 17,
   "id": "4c0be61c",
   "metadata": {},
   "outputs": [
    {
     "data": {
      "text/plain": [
       "<AxesSubplot:>"
      ]
     },
     "execution_count": 17,
     "metadata": {},
     "output_type": "execute_result"
    },
    {
     "data": {
      "image/png": "[encoded data removed]",
      "text/plain": [
       "<Figure size 432x288 with 1 Axes>"
      ]
     },
     "metadata": {
      "needs_background": "light"
     },
     "output_type": "display_data"
    }
   ],
   "source": [
    "dtr_data[\"Latitude\"].plot()"
   ]
  },
  {
   "cell_type": "code",
   "execution_count": 18,
   "id": "696adbc3",
   "metadata": {},
   "outputs": [
    {
     "data": {
      "text/plain": [
       "<AxesSubplot:>"
      ]
     },
     "execution_count": 18,
     "metadata": {},
     "output_type": "execute_result"
    },
    {
     "data": {
      "image/png": "[encoded data removed]",
      "text/plain": [
       "<Figure size 432x288 with 1 Axes>"
      ]
     },
     "metadata": {
      "needs_background": "light"
     },
     "output_type": "display_data"
    }
   ],
   "source": [
    "dtr_data[\"Longitude\"].plot()"
   ]
  },
  {
   "cell_type": "code",
   "execution_count": 19,
   "id": "a812e3c4",
   "metadata": {},
   "outputs": [],
   "source": [
    "new_dtr=dtr_data.dropna()"
   ]
  },
  {
   "cell_type": "code",
   "execution_count": 20,
   "id": "68c7123e",
   "metadata": {},
   "outputs": [
    {
     "data": {
      "text/html": [
       "<div>\n",
       "<style scoped>\n",
       "    .dataframe tbody tr th:only-of-type {\n",
       "        vertical-align: middle;\n",
       "    }\n",
       "\n",
       "    .dataframe tbody tr th {\n",
       "        vertical-align: top;\n",
       "    }\n",
       "\n",
       "    .dataframe thead th {\n",
       "        text-align: right;\n",
       "    }\n",
       "</style>\n",
       "<table border=\"1\" class=\"dataframe\">\n",
       "  <thead>\n",
       "    <tr style=\"text-align: right;\">\n",
       "      <th></th>\n",
       "      <th>Sub Div Code</th>\n",
       "      <th>Dtr No</th>\n",
       "      <th>DTR Name</th>\n",
       "      <th>Feeder No</th>\n",
       "      <th>Capacity</th>\n",
       "      <th>Latitude</th>\n",
       "      <th>Longitude</th>\n",
       "    </tr>\n",
       "  </thead>\n",
       "  <tbody>\n",
       "    <tr>\n",
       "      <th>0</th>\n",
       "      <td>133</td>\n",
       "      <td>18</td>\n",
       "      <td>018-paikan</td>\n",
       "      <td>5</td>\n",
       "      <td>100 kVA</td>\n",
       "      <td>24.982307</td>\n",
       "      <td>92.521000</td>\n",
       "    </tr>\n",
       "    <tr>\n",
       "      <th>1</th>\n",
       "      <td>133</td>\n",
       "      <td>44</td>\n",
       "      <td>044-KHELMA</td>\n",
       "      <td>2</td>\n",
       "      <td>63  kVA</td>\n",
       "      <td>24.953685</td>\n",
       "      <td>92.499068</td>\n",
       "    </tr>\n",
       "    <tr>\n",
       "      <th>2</th>\n",
       "      <td>133</td>\n",
       "      <td>46</td>\n",
       "      <td>046-CRAIGPARK</td>\n",
       "      <td>5</td>\n",
       "      <td>63  kVA</td>\n",
       "      <td>25.008613</td>\n",
       "      <td>92.525782</td>\n",
       "    </tr>\n",
       "    <tr>\n",
       "      <th>3</th>\n",
       "      <td>133</td>\n",
       "      <td>50</td>\n",
       "      <td>050-9BPL II</td>\n",
       "      <td>2</td>\n",
       "      <td>25  kVA</td>\n",
       "      <td>24.999775</td>\n",
       "      <td>92.443352</td>\n",
       "    </tr>\n",
       "    <tr>\n",
       "      <th>4</th>\n",
       "      <td>133</td>\n",
       "      <td>54</td>\n",
       "      <td>054-BPR 1</td>\n",
       "      <td>9</td>\n",
       "      <td>63  kVA</td>\n",
       "      <td>24.907980</td>\n",
       "      <td>92.673555</td>\n",
       "    </tr>\n",
       "  </tbody>\n",
       "</table>\n",
       "</div>"
      ],
      "text/plain": [
       "   Sub Div Code  Dtr No       DTR Name  Feeder No Capacity   Latitude  \\\n",
       "0           133      18     018-paikan          5  100 kVA  24.982307   \n",
       "1           133      44     044-KHELMA          2  63  kVA  24.953685   \n",
       "2           133      46  046-CRAIGPARK          5  63  kVA  25.008613   \n",
       "3           133      50    050-9BPL II          2  25  kVA  24.999775   \n",
       "4           133      54      054-BPR 1          9  63  kVA  24.907980   \n",
       "\n",
       "   Longitude  \n",
       "0  92.521000  \n",
       "1  92.499068  \n",
       "2  92.525782  \n",
       "3  92.443352  \n",
       "4  92.673555  "
      ]
     },
     "execution_count": 20,
     "metadata": {},
     "output_type": "execute_result"
    }
   ],
   "source": [
    "new_dtr.head()"
   ]
  },
  {
   "cell_type": "code",
   "execution_count": 21,
   "id": "81367c96",
   "metadata": {},
   "outputs": [
    {
     "data": {
      "text/plain": [
       "Sub Div Code    0\n",
       "Dtr No          0\n",
       "DTR Name        0\n",
       "Feeder No       0\n",
       "Capacity        0\n",
       "Latitude        0\n",
       "Longitude       0\n",
       "dtype: int64"
      ]
     },
     "execution_count": 21,
     "metadata": {},
     "output_type": "execute_result"
    }
   ],
   "source": [
    "new_dtr.isnull().sum()"
   ]
  },
  {
   "cell_type": "code",
   "execution_count": 22,
   "id": "9dfaddb9",
   "metadata": {},
   "outputs": [],
   "source": [
    "new_dtr.to_csv('working-data.csv', index=False)"
   ]
  },
  {
   "cell_type": "code",
   "execution_count": null,
   "id": "53edcc06",
   "metadata": {},
   "outputs": [],
   "source": []
  }
 ],
 "metadata": {
  "kernelspec": {
   "display_name": "Python 3 (ipykernel)",
   "language": "python",
   "name": "python3"
  },
  "language_info": {
   "codemirror_mode": {
    "name": "ipython",
    "version": 3
   },
   "file_extension": ".py",
   "mimetype": "text/x-python",
   "name": "python",
   "nbconvert_exporter": "python",
   "pygments_lexer": "ipython3",
   "version": "3.9.12"
  }
 },
 "nbformat": 4,
 "nbformat_minor": 5
}
