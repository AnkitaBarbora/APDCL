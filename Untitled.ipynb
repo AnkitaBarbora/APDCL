{
 "cells": [
  {
   "cell_type": "code",
   "execution_count": 2,
   "metadata": {},
   "outputs": [],
   "source": [
    "import pandas as pd\n",
    "import matplotlib as plt"
   ]
  },
  {
   "cell_type": "code",
   "execution_count": 3,
   "metadata": {},
   "outputs": [],
   "source": [
    "dtr_data = pd.read_csv(\"DTR Data.csv\")"
   ]
  },
  {
   "cell_type": "code",
   "execution_count": 4,
   "metadata": {},
   "outputs": [
    {
     "data": {
      "text/html": [
       "<div>\n",
       "<style scoped>\n",
       "    .dataframe tbody tr th:only-of-type {\n",
       "        vertical-align: middle;\n",
       "    }\n",
       "\n",
       "    .dataframe tbody tr th {\n",
       "        vertical-align: top;\n",
       "    }\n",
       "\n",
       "    .dataframe thead th {\n",
       "        text-align: right;\n",
       "    }\n",
       "</style>\n",
       "<table border=\"1\" class=\"dataframe\">\n",
       "  <thead>\n",
       "    <tr style=\"text-align: right;\">\n",
       "      <th></th>\n",
       "      <th>Cons No</th>\n",
       "      <th>Dtr No</th>\n",
       "      <th>Category</th>\n",
       "      <th>Load</th>\n",
       "      <th>Latitude</th>\n",
       "      <th>Longitude</th>\n",
       "    </tr>\n",
       "  </thead>\n",
       "  <tbody>\n",
       "    <tr>\n",
       "      <th>0</th>\n",
       "      <td>133000000001</td>\n",
       "      <td>519</td>\n",
       "      <td>46</td>\n",
       "      <td>0.32</td>\n",
       "      <td>24.940374</td>\n",
       "      <td>92.602958</td>\n",
       "    </tr>\n",
       "    <tr>\n",
       "      <th>1</th>\n",
       "      <td>133000000002</td>\n",
       "      <td>519</td>\n",
       "      <td>46</td>\n",
       "      <td>0.82</td>\n",
       "      <td>24.938564</td>\n",
       "      <td>92.600478</td>\n",
       "    </tr>\n",
       "    <tr>\n",
       "      <th>2</th>\n",
       "      <td>133000000003</td>\n",
       "      <td>519</td>\n",
       "      <td>46</td>\n",
       "      <td>1.00</td>\n",
       "      <td>24.941496</td>\n",
       "      <td>92.602339</td>\n",
       "    </tr>\n",
       "    <tr>\n",
       "      <th>3</th>\n",
       "      <td>133000000004</td>\n",
       "      <td>519</td>\n",
       "      <td>46</td>\n",
       "      <td>1.00</td>\n",
       "      <td>24.934967</td>\n",
       "      <td>92.597798</td>\n",
       "    </tr>\n",
       "    <tr>\n",
       "      <th>4</th>\n",
       "      <td>133000000005</td>\n",
       "      <td>519</td>\n",
       "      <td>46</td>\n",
       "      <td>0.72</td>\n",
       "      <td>24.939311</td>\n",
       "      <td>92.600168</td>\n",
       "    </tr>\n",
       "    <tr>\n",
       "      <th>...</th>\n",
       "      <td>...</td>\n",
       "      <td>...</td>\n",
       "      <td>...</td>\n",
       "      <td>...</td>\n",
       "      <td>...</td>\n",
       "      <td>...</td>\n",
       "    </tr>\n",
       "    <tr>\n",
       "      <th>44615</th>\n",
       "      <td>133010073806</td>\n",
       "      <td>738</td>\n",
       "      <td>46</td>\n",
       "      <td>1.00</td>\n",
       "      <td>24.870201</td>\n",
       "      <td>92.696870</td>\n",
       "    </tr>\n",
       "    <tr>\n",
       "      <th>44616</th>\n",
       "      <td>133010073819</td>\n",
       "      <td>308</td>\n",
       "      <td>48</td>\n",
       "      <td>1.00</td>\n",
       "      <td>24.976555</td>\n",
       "      <td>92.575833</td>\n",
       "    </tr>\n",
       "    <tr>\n",
       "      <th>44617</th>\n",
       "      <td>133010073826</td>\n",
       "      <td>396</td>\n",
       "      <td>46</td>\n",
       "      <td>1.00</td>\n",
       "      <td>24.899621</td>\n",
       "      <td>92.686428</td>\n",
       "    </tr>\n",
       "    <tr>\n",
       "      <th>44618</th>\n",
       "      <td>133010073829</td>\n",
       "      <td>906</td>\n",
       "      <td>46</td>\n",
       "      <td>2.00</td>\n",
       "      <td>24.879432</td>\n",
       "      <td>92.522451</td>\n",
       "    </tr>\n",
       "    <tr>\n",
       "      <th>44619</th>\n",
       "      <td>133010073881</td>\n",
       "      <td>312</td>\n",
       "      <td>46</td>\n",
       "      <td>1.00</td>\n",
       "      <td>24.954516</td>\n",
       "      <td>92.620633</td>\n",
       "    </tr>\n",
       "  </tbody>\n",
       "</table>\n",
       "<p>44620 rows × 6 columns</p>\n",
       "</div>"
      ],
      "text/plain": [
       "            Cons No  Dtr No  Category  Load   Latitude  Longitude\n",
       "0      133000000001     519        46  0.32  24.940374  92.602958\n",
       "1      133000000002     519        46  0.82  24.938564  92.600478\n",
       "2      133000000003     519        46  1.00  24.941496  92.602339\n",
       "3      133000000004     519        46  1.00  24.934967  92.597798\n",
       "4      133000000005     519        46  0.72  24.939311  92.600168\n",
       "...             ...     ...       ...   ...        ...        ...\n",
       "44615  133010073806     738        46  1.00  24.870201  92.696870\n",
       "44616  133010073819     308        48  1.00  24.976555  92.575833\n",
       "44617  133010073826     396        46  1.00  24.899621  92.686428\n",
       "44618  133010073829     906        46  2.00  24.879432  92.522451\n",
       "44619  133010073881     312        46  1.00  24.954516  92.620633\n",
       "\n",
       "[44620 rows x 6 columns]"
      ]
     },
     "execution_count": 4,
     "metadata": {},
     "output_type": "execute_result"
    }
   ],
   "source": [
    "dtr_data"
   ]
  },
  {
   "cell_type": "code",
   "execution_count": 5,
   "metadata": {},
   "outputs": [
    {
     "data": {
      "text/html": [
       "<div>\n",
       "<style scoped>\n",
       "    .dataframe tbody tr th:only-of-type {\n",
       "        vertical-align: middle;\n",
       "    }\n",
       "\n",
       "    .dataframe tbody tr th {\n",
       "        vertical-align: top;\n",
       "    }\n",
       "\n",
       "    .dataframe thead th {\n",
       "        text-align: right;\n",
       "    }\n",
       "</style>\n",
       "<table border=\"1\" class=\"dataframe\">\n",
       "  <thead>\n",
       "    <tr style=\"text-align: right;\">\n",
       "      <th></th>\n",
       "      <th>Cons No</th>\n",
       "      <th>Dtr No</th>\n",
       "      <th>Category</th>\n",
       "      <th>Load</th>\n",
       "      <th>Latitude</th>\n",
       "      <th>Longitude</th>\n",
       "    </tr>\n",
       "  </thead>\n",
       "  <tbody>\n",
       "    <tr>\n",
       "      <th>0</th>\n",
       "      <td>133000000001</td>\n",
       "      <td>519</td>\n",
       "      <td>46</td>\n",
       "      <td>0.32</td>\n",
       "      <td>24.940374</td>\n",
       "      <td>92.602958</td>\n",
       "    </tr>\n",
       "    <tr>\n",
       "      <th>1</th>\n",
       "      <td>133000000002</td>\n",
       "      <td>519</td>\n",
       "      <td>46</td>\n",
       "      <td>0.82</td>\n",
       "      <td>24.938564</td>\n",
       "      <td>92.600478</td>\n",
       "    </tr>\n",
       "    <tr>\n",
       "      <th>2</th>\n",
       "      <td>133000000003</td>\n",
       "      <td>519</td>\n",
       "      <td>46</td>\n",
       "      <td>1.00</td>\n",
       "      <td>24.941496</td>\n",
       "      <td>92.602339</td>\n",
       "    </tr>\n",
       "    <tr>\n",
       "      <th>3</th>\n",
       "      <td>133000000004</td>\n",
       "      <td>519</td>\n",
       "      <td>46</td>\n",
       "      <td>1.00</td>\n",
       "      <td>24.934967</td>\n",
       "      <td>92.597798</td>\n",
       "    </tr>\n",
       "    <tr>\n",
       "      <th>4</th>\n",
       "      <td>133000000005</td>\n",
       "      <td>519</td>\n",
       "      <td>46</td>\n",
       "      <td>0.72</td>\n",
       "      <td>24.939311</td>\n",
       "      <td>92.600168</td>\n",
       "    </tr>\n",
       "    <tr>\n",
       "      <th>5</th>\n",
       "      <td>133000000006</td>\n",
       "      <td>519</td>\n",
       "      <td>46</td>\n",
       "      <td>0.62</td>\n",
       "      <td>24.942189</td>\n",
       "      <td>92.605129</td>\n",
       "    </tr>\n",
       "    <tr>\n",
       "      <th>6</th>\n",
       "      <td>133000000007</td>\n",
       "      <td>519</td>\n",
       "      <td>46</td>\n",
       "      <td>2.00</td>\n",
       "      <td>24.937103</td>\n",
       "      <td>92.599238</td>\n",
       "    </tr>\n",
       "  </tbody>\n",
       "</table>\n",
       "</div>"
      ],
      "text/plain": [
       "        Cons No  Dtr No  Category  Load   Latitude  Longitude\n",
       "0  133000000001     519        46  0.32  24.940374  92.602958\n",
       "1  133000000002     519        46  0.82  24.938564  92.600478\n",
       "2  133000000003     519        46  1.00  24.941496  92.602339\n",
       "3  133000000004     519        46  1.00  24.934967  92.597798\n",
       "4  133000000005     519        46  0.72  24.939311  92.600168\n",
       "5  133000000006     519        46  0.62  24.942189  92.605129\n",
       "6  133000000007     519        46  2.00  24.937103  92.599238"
      ]
     },
     "execution_count": 5,
     "metadata": {},
     "output_type": "execute_result"
    }
   ],
   "source": [
    "dtr_data.head(7)"
   ]
  },
  {
   "cell_type": "code",
   "execution_count": 6,
   "metadata": {},
   "outputs": [
    {
     "data": {
      "text/html": [
       "<div>\n",
       "<style scoped>\n",
       "    .dataframe tbody tr th:only-of-type {\n",
       "        vertical-align: middle;\n",
       "    }\n",
       "\n",
       "    .dataframe tbody tr th {\n",
       "        vertical-align: top;\n",
       "    }\n",
       "\n",
       "    .dataframe thead th {\n",
       "        text-align: right;\n",
       "    }\n",
       "</style>\n",
       "<table border=\"1\" class=\"dataframe\">\n",
       "  <thead>\n",
       "    <tr style=\"text-align: right;\">\n",
       "      <th></th>\n",
       "      <th>Cons No</th>\n",
       "      <th>Dtr No</th>\n",
       "      <th>Category</th>\n",
       "      <th>Load</th>\n",
       "      <th>Latitude</th>\n",
       "      <th>Longitude</th>\n",
       "    </tr>\n",
       "  </thead>\n",
       "  <tbody>\n",
       "    <tr>\n",
       "      <th>0</th>\n",
       "      <td>133000000001</td>\n",
       "      <td>519</td>\n",
       "      <td>46</td>\n",
       "      <td>0.32</td>\n",
       "      <td>24.940374</td>\n",
       "      <td>92.602958</td>\n",
       "    </tr>\n",
       "    <tr>\n",
       "      <th>1</th>\n",
       "      <td>133000000002</td>\n",
       "      <td>519</td>\n",
       "      <td>46</td>\n",
       "      <td>0.82</td>\n",
       "      <td>24.938564</td>\n",
       "      <td>92.600478</td>\n",
       "    </tr>\n",
       "    <tr>\n",
       "      <th>2</th>\n",
       "      <td>133000000003</td>\n",
       "      <td>519</td>\n",
       "      <td>46</td>\n",
       "      <td>1.00</td>\n",
       "      <td>24.941496</td>\n",
       "      <td>92.602339</td>\n",
       "    </tr>\n",
       "    <tr>\n",
       "      <th>3</th>\n",
       "      <td>133000000004</td>\n",
       "      <td>519</td>\n",
       "      <td>46</td>\n",
       "      <td>1.00</td>\n",
       "      <td>24.934967</td>\n",
       "      <td>92.597798</td>\n",
       "    </tr>\n",
       "    <tr>\n",
       "      <th>4</th>\n",
       "      <td>133000000005</td>\n",
       "      <td>519</td>\n",
       "      <td>46</td>\n",
       "      <td>0.72</td>\n",
       "      <td>24.939311</td>\n",
       "      <td>92.600168</td>\n",
       "    </tr>\n",
       "    <tr>\n",
       "      <th>5</th>\n",
       "      <td>133000000006</td>\n",
       "      <td>519</td>\n",
       "      <td>46</td>\n",
       "      <td>0.62</td>\n",
       "      <td>24.942189</td>\n",
       "      <td>92.605129</td>\n",
       "    </tr>\n",
       "    <tr>\n",
       "      <th>6</th>\n",
       "      <td>133000000007</td>\n",
       "      <td>519</td>\n",
       "      <td>46</td>\n",
       "      <td>2.00</td>\n",
       "      <td>24.937103</td>\n",
       "      <td>92.599238</td>\n",
       "    </tr>\n",
       "    <tr>\n",
       "      <th>7</th>\n",
       "      <td>133000000008</td>\n",
       "      <td>519</td>\n",
       "      <td>46</td>\n",
       "      <td>0.60</td>\n",
       "      <td>24.938838</td>\n",
       "      <td>92.599259</td>\n",
       "    </tr>\n",
       "    <tr>\n",
       "      <th>8</th>\n",
       "      <td>133000000009</td>\n",
       "      <td>519</td>\n",
       "      <td>46</td>\n",
       "      <td>0.50</td>\n",
       "      <td>24.941496</td>\n",
       "      <td>92.602339</td>\n",
       "    </tr>\n",
       "    <tr>\n",
       "      <th>9</th>\n",
       "      <td>133000000011</td>\n",
       "      <td>519</td>\n",
       "      <td>46</td>\n",
       "      <td>0.60</td>\n",
       "      <td>24.939311</td>\n",
       "      <td>92.600168</td>\n",
       "    </tr>\n",
       "  </tbody>\n",
       "</table>\n",
       "</div>"
      ],
      "text/plain": [
       "        Cons No  Dtr No  Category  Load   Latitude  Longitude\n",
       "0  133000000001     519        46  0.32  24.940374  92.602958\n",
       "1  133000000002     519        46  0.82  24.938564  92.600478\n",
       "2  133000000003     519        46  1.00  24.941496  92.602339\n",
       "3  133000000004     519        46  1.00  24.934967  92.597798\n",
       "4  133000000005     519        46  0.72  24.939311  92.600168\n",
       "5  133000000006     519        46  0.62  24.942189  92.605129\n",
       "6  133000000007     519        46  2.00  24.937103  92.599238\n",
       "7  133000000008     519        46  0.60  24.938838  92.599259\n",
       "8  133000000009     519        46  0.50  24.941496  92.602339\n",
       "9  133000000011     519        46  0.60  24.939311  92.600168"
      ]
     },
     "execution_count": 6,
     "metadata": {},
     "output_type": "execute_result"
    }
   ],
   "source": [
    "dtr_data.head(10)\n",
    "# just checking if the Dtr Nos. are same"
   ]
  },
  {
   "cell_type": "code",
   "execution_count": 24,
   "metadata": {},
   "outputs": [
    {
     "data": {
      "text/plain": [
       "630"
      ]
     },
     "execution_count": 24,
     "metadata": {},
     "output_type": "execute_result"
    }
   ],
   "source": [
    "dtr_data['Dtr No'].nunique()"
   ]
  },
  {
   "cell_type": "code",
   "execution_count": 26,
   "metadata": {},
   "outputs": [
    {
     "data": {
      "text/plain": [
       "7"
      ]
     },
     "execution_count": 26,
     "metadata": {},
     "output_type": "execute_result"
    }
   ],
   "source": [
    "dtr_data['Category'].nunique()"
   ]
  },
  {
   "cell_type": "code",
   "execution_count": 25,
   "metadata": {},
   "outputs": [
    {
     "data": {
      "text/plain": [
       "array([46, 48, 49, 75, 52, 47, 43], dtype=int64)"
      ]
     },
     "execution_count": 25,
     "metadata": {},
     "output_type": "execute_result"
    }
   ],
   "source": [
    "dtr_data['Category'].unique()"
   ]
  },
  {
   "cell_type": "code",
   "execution_count": 7,
   "metadata": {},
   "outputs": [
    {
     "data": {
      "text/plain": [
       "(44620, 6)"
      ]
     },
     "execution_count": 7,
     "metadata": {},
     "output_type": "execute_result"
    }
   ],
   "source": [
    "dtr_data.shape"
   ]
  },
  {
   "cell_type": "code",
   "execution_count": 8,
   "metadata": {},
   "outputs": [],
   "source": [
    "dtr_data.drop_duplicates(inplace= True)"
   ]
  },
  {
   "cell_type": "code",
   "execution_count": 9,
   "metadata": {},
   "outputs": [
    {
     "data": {
      "text/plain": [
       "(44620, 6)"
      ]
     },
     "execution_count": 9,
     "metadata": {},
     "output_type": "execute_result"
    }
   ],
   "source": [
    "dtr_data.shape"
   ]
  },
  {
   "cell_type": "code",
   "execution_count": 10,
   "metadata": {},
   "outputs": [
    {
     "data": {
      "text/plain": [
       "Cons No         0\n",
       "Dtr No          0\n",
       "Category        0\n",
       "Load            0\n",
       "Latitude     1485\n",
       "Longitude    1485\n",
       "dtype: int64"
      ]
     },
     "execution_count": 10,
     "metadata": {},
     "output_type": "execute_result"
    }
   ],
   "source": [
    "#no. of missing data for each column\n",
    "dtr_data.isnull().sum()"
   ]
  },
  {
   "cell_type": "code",
   "execution_count": 11,
   "metadata": {},
   "outputs": [
    {
     "data": {
      "text/plain": [
       "Cons No        int64\n",
       "Dtr No         int64\n",
       "Category       int64\n",
       "Load         float64\n",
       "Latitude     float64\n",
       "Longitude    float64\n",
       "dtype: object"
      ]
     },
     "execution_count": 11,
     "metadata": {},
     "output_type": "execute_result"
    }
   ],
   "source": [
    "dtr_data.dtypes"
   ]
  },
  {
   "cell_type": "code",
   "execution_count": 12,
   "metadata": {},
   "outputs": [
    {
     "name": "stdout",
     "output_type": "stream",
     "text": [
      "<class 'pandas.core.frame.DataFrame'>\n",
      "Int64Index: 44620 entries, 0 to 44619\n",
      "Data columns (total 6 columns):\n",
      " #   Column     Non-Null Count  Dtype  \n",
      "---  ------     --------------  -----  \n",
      " 0   Cons No    44620 non-null  int64  \n",
      " 1   Dtr No     44620 non-null  int64  \n",
      " 2   Category   44620 non-null  int64  \n",
      " 3   Load       44620 non-null  float64\n",
      " 4   Latitude   43135 non-null  float64\n",
      " 5   Longitude  43135 non-null  float64\n",
      "dtypes: float64(3), int64(3)\n",
      "memory usage: 2.4 MB\n"
     ]
    }
   ],
   "source": [
    "dtr_data.info()"
   ]
  },
  {
   "cell_type": "code",
   "execution_count": 14,
   "metadata": {},
   "outputs": [
    {
     "data": {
      "text/plain": [
       "Cons No      1.330006e+11\n",
       "Dtr No       6.093229e+02\n",
       "Category     4.614269e+01\n",
       "Load         6.713525e-01\n",
       "Latitude     2.493180e+01\n",
       "Longitude    9.258773e+01\n",
       "dtype: float64"
      ]
     },
     "execution_count": 14,
     "metadata": {},
     "output_type": "execute_result"
    }
   ],
   "source": [
    "dtr_data.mean()"
   ]
  },
  {
   "cell_type": "code",
   "execution_count": 13,
   "metadata": {},
   "outputs": [
    {
     "data": {
      "text/plain": [
       "<AxesSubplot:>"
      ]
     },
     "execution_count": 13,
     "metadata": {},
     "output_type": "execute_result"
    },
    {
     "data": {
      "image/png": "[encoded data removed]",
      "text/plain": [
       "<Figure size 432x288 with 1 Axes>"
      ]
     },
     "metadata": {
      "needs_background": "light"
     },
     "output_type": "display_data"
    }
   ],
   "source": [
    "dtr_data[\"Latitude\"].plot()"
   ]
  },
  {
   "cell_type": "code",
   "execution_count": 14,
   "metadata": {},
   "outputs": [
    {
     "data": {
      "text/plain": [
       "<AxesSubplot:>"
      ]
     },
     "execution_count": 14,
     "metadata": {},
     "output_type": "execute_result"
    },
    {
     "data": {
      "image/png": "[encoded data removed]",
      "text/plain": [
       "<Figure size 432x288 with 1 Axes>"
      ]
     },
     "metadata": {
      "needs_background": "light"
     },
     "output_type": "display_data"
    }
   ],
   "source": [
    "dtr_data[\"Longitude\"].plot()"
   ]
  },
  {
   "cell_type": "code",
   "execution_count": null,
   "metadata": {},
   "outputs": [],
   "source": []
  }
 ],
 "metadata": {
  "kernelspec": {
   "display_name": "Python 3.10.4 64-bit",
   "language": "python",
   "name": "python3"
  },
  "language_info": {
   "codemirror_mode": {
    "name": "ipython",
    "version": 3
   },
   "file_extension": ".py",
   "mimetype": "text/x-python",
   "name": "python",
   "nbconvert_exporter": "python",
   "pygments_lexer": "ipython3",
   "version": "3.10.4"
  },
  "vscode": {
   "interpreter": {
    "hash": "26de051ba29f2982a8de78e945f0abaf191376122a1563185a90213a26c5da77"
   }
  }
 },
 "nbformat": 4,
 "nbformat_minor": 4
}
